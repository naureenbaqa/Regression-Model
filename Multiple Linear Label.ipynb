{
 "cells": [
  {
   "cell_type": "markdown",
   "metadata": {},
   "source": [
    "# Import Libraries "
   ]
  },
  {
   "cell_type": "code",
   "execution_count": 1,
   "metadata": {},
   "outputs": [],
   "source": [
    "import pandas as pd  \n",
    "import numpy as np \n",
    "import seaborn as sns\n",
    "import matplotlib.pyplot as plt"
   ]
  },
  {
   "cell_type": "markdown",
   "metadata": {},
   "source": [
    "# Import Dataset"
   ]
  },
  {
   "cell_type": "code",
   "execution_count": 2,
   "metadata": {},
   "outputs": [
    {
     "data": {
      "text/html": [
       "<div>\n",
       "<style scoped>\n",
       "    .dataframe tbody tr th:only-of-type {\n",
       "        vertical-align: middle;\n",
       "    }\n",
       "\n",
       "    .dataframe tbody tr th {\n",
       "        vertical-align: top;\n",
       "    }\n",
       "\n",
       "    .dataframe thead th {\n",
       "        text-align: right;\n",
       "    }\n",
       "</style>\n",
       "<table border=\"1\" class=\"dataframe\">\n",
       "  <thead>\n",
       "    <tr style=\"text-align: right;\">\n",
       "      <th></th>\n",
       "      <th>price in crore</th>\n",
       "      <th>type</th>\n",
       "      <th>location</th>\n",
       "      <th>District</th>\n",
       "      <th>bathroom</th>\n",
       "      <th>bedroom</th>\n",
       "      <th>area</th>\n",
       "      <th>latitude</th>\n",
       "      <th>longitude</th>\n",
       "    </tr>\n",
       "  </thead>\n",
       "  <tbody>\n",
       "    <tr>\n",
       "      <td>0</td>\n",
       "      <td>0.2500</td>\n",
       "      <td>Flat</td>\n",
       "      <td>Bahria Town Karachi</td>\n",
       "      <td>Malir</td>\n",
       "      <td>2</td>\n",
       "      <td>2</td>\n",
       "      <td>4.9</td>\n",
       "      <td>25.021452</td>\n",
       "      <td>67.303431</td>\n",
       "    </tr>\n",
       "    <tr>\n",
       "      <td>1</td>\n",
       "      <td>0.9720</td>\n",
       "      <td>Flat</td>\n",
       "      <td>Bahria Town Karachi</td>\n",
       "      <td>Malir</td>\n",
       "      <td>4</td>\n",
       "      <td>4</td>\n",
       "      <td>5.4</td>\n",
       "      <td>25.021452</td>\n",
       "      <td>67.303431</td>\n",
       "    </tr>\n",
       "    <tr>\n",
       "      <td>2</td>\n",
       "      <td>0.7420</td>\n",
       "      <td>Flat</td>\n",
       "      <td>Bahria Town Karachi</td>\n",
       "      <td>Malir</td>\n",
       "      <td>3</td>\n",
       "      <td>3</td>\n",
       "      <td>4.2</td>\n",
       "      <td>25.021452</td>\n",
       "      <td>67.303431</td>\n",
       "    </tr>\n",
       "    <tr>\n",
       "      <td>3</td>\n",
       "      <td>0.4464</td>\n",
       "      <td>Flat</td>\n",
       "      <td>Bahria Town Karachi</td>\n",
       "      <td>Malir</td>\n",
       "      <td>2</td>\n",
       "      <td>2</td>\n",
       "      <td>2.5</td>\n",
       "      <td>25.021452</td>\n",
       "      <td>67.303431</td>\n",
       "    </tr>\n",
       "    <tr>\n",
       "      <td>4</td>\n",
       "      <td>4.1000</td>\n",
       "      <td>House</td>\n",
       "      <td>DHA Defence</td>\n",
       "      <td>South</td>\n",
       "      <td>4</td>\n",
       "      <td>3</td>\n",
       "      <td>4.0</td>\n",
       "      <td>24.798393</td>\n",
       "      <td>67.032767</td>\n",
       "    </tr>\n",
       "  </tbody>\n",
       "</table>\n",
       "</div>"
      ],
      "text/plain": [
       "   price in crore   type             location District  bathroom  bedroom  \\\n",
       "0          0.2500   Flat  Bahria Town Karachi    Malir         2        2   \n",
       "1          0.9720   Flat  Bahria Town Karachi    Malir         4        4   \n",
       "2          0.7420   Flat  Bahria Town Karachi    Malir         3        3   \n",
       "3          0.4464   Flat  Bahria Town Karachi    Malir         2        2   \n",
       "4          4.1000  House          DHA Defence    South         4        3   \n",
       "\n",
       "   area   latitude  longitude  \n",
       "0   4.9  25.021452  67.303431  \n",
       "1   5.4  25.021452  67.303431  \n",
       "2   4.2  25.021452  67.303431  \n",
       "3   2.5  25.021452  67.303431  \n",
       "4   4.0  24.798393  67.032767  "
      ]
     },
     "execution_count": 2,
     "metadata": {},
     "output_type": "execute_result"
    }
   ],
   "source": [
    "#Take price in Crore and area in marla\n",
    "df = pd.read_csv('final data mid (1) (3).csv')\n",
    "df.head() "
   ]
  },
  {
   "cell_type": "code",
   "execution_count": 3,
   "metadata": {},
   "outputs": [
    {
     "name": "stdout",
     "output_type": "stream",
     "text": [
      "<class 'pandas.core.frame.DataFrame'>\n",
      "RangeIndex: 23416 entries, 0 to 23415\n",
      "Data columns (total 9 columns):\n",
      "price in crore    23416 non-null float64\n",
      "type              23416 non-null object\n",
      "location          23416 non-null object\n",
      "District          23416 non-null object\n",
      "bathroom          23416 non-null int64\n",
      "bedroom           23416 non-null int64\n",
      "area              23416 non-null float64\n",
      "latitude          23416 non-null float64\n",
      "longitude         23416 non-null float64\n",
      "dtypes: float64(4), int64(2), object(3)\n",
      "memory usage: 1.6+ MB\n"
     ]
    },
    {
     "data": {
      "text/html": [
       "<div>\n",
       "<style scoped>\n",
       "    .dataframe tbody tr th:only-of-type {\n",
       "        vertical-align: middle;\n",
       "    }\n",
       "\n",
       "    .dataframe tbody tr th {\n",
       "        vertical-align: top;\n",
       "    }\n",
       "\n",
       "    .dataframe thead th {\n",
       "        text-align: right;\n",
       "    }\n",
       "</style>\n",
       "<table border=\"1\" class=\"dataframe\">\n",
       "  <thead>\n",
       "    <tr style=\"text-align: right;\">\n",
       "      <th></th>\n",
       "      <th>price in crore</th>\n",
       "      <th>bathroom</th>\n",
       "      <th>bedroom</th>\n",
       "      <th>area</th>\n",
       "      <th>latitude</th>\n",
       "      <th>longitude</th>\n",
       "    </tr>\n",
       "  </thead>\n",
       "  <tbody>\n",
       "    <tr>\n",
       "      <td>count</td>\n",
       "      <td>23416.000000</td>\n",
       "      <td>23416.000000</td>\n",
       "      <td>23416.000000</td>\n",
       "      <td>23416.000000</td>\n",
       "      <td>23416.000000</td>\n",
       "      <td>23416.000000</td>\n",
       "    </tr>\n",
       "    <tr>\n",
       "      <td>mean</td>\n",
       "      <td>3.320906</td>\n",
       "      <td>3.566408</td>\n",
       "      <td>3.471515</td>\n",
       "      <td>9.734945</td>\n",
       "      <td>24.916721</td>\n",
       "      <td>67.105109</td>\n",
       "    </tr>\n",
       "    <tr>\n",
       "      <td>std</td>\n",
       "      <td>4.639150</td>\n",
       "      <td>1.634885</td>\n",
       "      <td>1.508195</td>\n",
       "      <td>9.926127</td>\n",
       "      <td>0.106088</td>\n",
       "      <td>0.129236</td>\n",
       "    </tr>\n",
       "    <tr>\n",
       "      <td>min</td>\n",
       "      <td>0.000000</td>\n",
       "      <td>1.000000</td>\n",
       "      <td>0.000000</td>\n",
       "      <td>0.600000</td>\n",
       "      <td>24.793524</td>\n",
       "      <td>66.699112</td>\n",
       "    </tr>\n",
       "    <tr>\n",
       "      <td>25%</td>\n",
       "      <td>0.850000</td>\n",
       "      <td>2.000000</td>\n",
       "      <td>3.000000</td>\n",
       "      <td>4.800000</td>\n",
       "      <td>24.845554</td>\n",
       "      <td>67.032767</td>\n",
       "    </tr>\n",
       "    <tr>\n",
       "      <td>50%</td>\n",
       "      <td>1.550000</td>\n",
       "      <td>3.000000</td>\n",
       "      <td>3.000000</td>\n",
       "      <td>7.300000</td>\n",
       "      <td>24.920419</td>\n",
       "      <td>67.064127</td>\n",
       "    </tr>\n",
       "    <tr>\n",
       "      <td>75%</td>\n",
       "      <td>3.750000</td>\n",
       "      <td>4.000000</td>\n",
       "      <td>4.000000</td>\n",
       "      <td>11.500000</td>\n",
       "      <td>24.972871</td>\n",
       "      <td>67.134385</td>\n",
       "    </tr>\n",
       "    <tr>\n",
       "      <td>max</td>\n",
       "      <td>95.500000</td>\n",
       "      <td>13.000000</td>\n",
       "      <td>13.000000</td>\n",
       "      <td>320.000000</td>\n",
       "      <td>31.533534</td>\n",
       "      <td>74.336019</td>\n",
       "    </tr>\n",
       "  </tbody>\n",
       "</table>\n",
       "</div>"
      ],
      "text/plain": [
       "       price in crore      bathroom       bedroom          area      latitude  \\\n",
       "count    23416.000000  23416.000000  23416.000000  23416.000000  23416.000000   \n",
       "mean         3.320906      3.566408      3.471515      9.734945     24.916721   \n",
       "std          4.639150      1.634885      1.508195      9.926127      0.106088   \n",
       "min          0.000000      1.000000      0.000000      0.600000     24.793524   \n",
       "25%          0.850000      2.000000      3.000000      4.800000     24.845554   \n",
       "50%          1.550000      3.000000      3.000000      7.300000     24.920419   \n",
       "75%          3.750000      4.000000      4.000000     11.500000     24.972871   \n",
       "max         95.500000     13.000000     13.000000    320.000000     31.533534   \n",
       "\n",
       "          longitude  \n",
       "count  23416.000000  \n",
       "mean      67.105109  \n",
       "std        0.129236  \n",
       "min       66.699112  \n",
       "25%       67.032767  \n",
       "50%       67.064127  \n",
       "75%       67.134385  \n",
       "max       74.336019  "
      ]
     },
     "execution_count": 3,
     "metadata": {},
     "output_type": "execute_result"
    }
   ],
   "source": [
    "#get some information about our Data-Set\n",
    "df.info()\n",
    "df.describe()"
   ]
  },
  {
   "cell_type": "code",
   "execution_count": 4,
   "metadata": {},
   "outputs": [
    {
     "data": {
      "image/png": "[encoded data removed]",
      "text/plain": [
       "<Figure size 720x504 with 2 Axes>"
      ]
     },
     "metadata": {
      "needs_background": "light"
     },
     "output_type": "display_data"
    }
   ],
   "source": [
    "#visualizing house prices\n",
    "fig = plt.figure(figsize=(10,7))\n",
    "fig.add_subplot(2,1,1)\n",
    "sns.distplot(df['price in crore'])\n",
    "fig.add_subplot(2,1,2)\n",
    "sns.boxplot(df['price in crore'])\n",
    "plt.tight_layout()"
   ]
  },
  {
   "cell_type": "code",
   "execution_count": 5,
   "metadata": {},
   "outputs": [
    {
     "data": {
      "text/plain": [
       "<matplotlib.axes._subplots.AxesSubplot at 0x19212571b48>"
      ]
     },
     "execution_count": 5,
     "metadata": {},
     "output_type": "execute_result"
    },
    {
     "data": {
      "image/png": "[encoded data removed]",
      "text/plain": [
       "<Figure size 1080x504 with 2 Axes>"
      ]
     },
     "metadata": {
      "needs_background": "light"
     },
     "output_type": "display_data"
    }
   ],
   "source": [
    "#visualizing bedrooms,bathrooms,floors,grade\n",
    "fig = plt.figure(figsize=(15,7))\n",
    "fig.add_subplot(2,2,1)\n",
    "sns.countplot(df['bedroom'])\n",
    "fig.add_subplot(2,2,2)\n",
    "sns.countplot(df['bathroom'])"
   ]
  },
  {
   "cell_type": "code",
   "execution_count": 6,
   "metadata": {},
   "outputs": [
    {
     "data": {
      "text/plain": [
       "<matplotlib.axes._subplots.AxesSubplot at 0x1921263ce88>"
      ]
     },
     "execution_count": 6,
     "metadata": {},
     "output_type": "execute_result"
    },
    {
     "data": {
      "image/png": "[encoded data removed]",
      "text/plain": [
       "<Figure size 1152x360 with 1 Axes>"
      ]
     },
     "metadata": {
      "needs_background": "light"
     },
     "output_type": "display_data"
    }
   ],
   "source": [
    "#visualizing square footage of (property_type and price)\n",
    "fig = plt.figure(figsize=(16,5))\n",
    "fig.add_subplot(2,2,1)\n",
    "sns.scatterplot(df['type'], df['price in crore'])"
   ]
  },
  {
   "cell_type": "markdown",
   "metadata": {},
   "source": [
    "# Normal Encoding"
   ]
  },
  {
   "cell_type": "code",
   "execution_count": 7,
   "metadata": {},
   "outputs": [],
   "source": [
    "from sklearn.preprocessing import LabelEncoder\n",
    "le = LabelEncoder()"
   ]
  },
  {
   "cell_type": "code",
   "execution_count": 8,
   "metadata": {},
   "outputs": [],
   "source": [
    "dfle = df\n",
    "dfle.type =le.fit_transform(dfle.type)"
   ]
  },
  {
   "cell_type": "raw",
   "metadata": {},
   "source": [
    "dfle.District=le.fit_transform(dfle.District)"
   ]
  },
  {
   "cell_type": "code",
   "execution_count": 9,
   "metadata": {},
   "outputs": [
    {
     "data": {
      "text/html": [
       "<div>\n",
       "<style scoped>\n",
       "    .dataframe tbody tr th:only-of-type {\n",
       "        vertical-align: middle;\n",
       "    }\n",
       "\n",
       "    .dataframe tbody tr th {\n",
       "        vertical-align: top;\n",
       "    }\n",
       "\n",
       "    .dataframe thead th {\n",
       "        text-align: right;\n",
       "    }\n",
       "</style>\n",
       "<table border=\"1\" class=\"dataframe\">\n",
       "  <thead>\n",
       "    <tr style=\"text-align: right;\">\n",
       "      <th></th>\n",
       "      <th>price in crore</th>\n",
       "      <th>type</th>\n",
       "      <th>location</th>\n",
       "      <th>District</th>\n",
       "      <th>bathroom</th>\n",
       "      <th>bedroom</th>\n",
       "      <th>area</th>\n",
       "      <th>latitude</th>\n",
       "      <th>longitude</th>\n",
       "    </tr>\n",
       "  </thead>\n",
       "  <tbody>\n",
       "    <tr>\n",
       "      <td>0</td>\n",
       "      <td>0.2500</td>\n",
       "      <td>1</td>\n",
       "      <td>Bahria Town Karachi</td>\n",
       "      <td>Malir</td>\n",
       "      <td>2</td>\n",
       "      <td>2</td>\n",
       "      <td>4.900000</td>\n",
       "      <td>25.021452</td>\n",
       "      <td>67.303431</td>\n",
       "    </tr>\n",
       "    <tr>\n",
       "      <td>1</td>\n",
       "      <td>0.9720</td>\n",
       "      <td>1</td>\n",
       "      <td>Bahria Town Karachi</td>\n",
       "      <td>Malir</td>\n",
       "      <td>4</td>\n",
       "      <td>4</td>\n",
       "      <td>5.400000</td>\n",
       "      <td>25.021452</td>\n",
       "      <td>67.303431</td>\n",
       "    </tr>\n",
       "    <tr>\n",
       "      <td>2</td>\n",
       "      <td>0.7420</td>\n",
       "      <td>1</td>\n",
       "      <td>Bahria Town Karachi</td>\n",
       "      <td>Malir</td>\n",
       "      <td>3</td>\n",
       "      <td>3</td>\n",
       "      <td>4.200000</td>\n",
       "      <td>25.021452</td>\n",
       "      <td>67.303431</td>\n",
       "    </tr>\n",
       "    <tr>\n",
       "      <td>3</td>\n",
       "      <td>0.4464</td>\n",
       "      <td>1</td>\n",
       "      <td>Bahria Town Karachi</td>\n",
       "      <td>Malir</td>\n",
       "      <td>2</td>\n",
       "      <td>2</td>\n",
       "      <td>2.500000</td>\n",
       "      <td>25.021452</td>\n",
       "      <td>67.303431</td>\n",
       "    </tr>\n",
       "    <tr>\n",
       "      <td>4</td>\n",
       "      <td>4.1000</td>\n",
       "      <td>2</td>\n",
       "      <td>DHA Defence</td>\n",
       "      <td>South</td>\n",
       "      <td>4</td>\n",
       "      <td>3</td>\n",
       "      <td>4.000000</td>\n",
       "      <td>24.798393</td>\n",
       "      <td>67.032767</td>\n",
       "    </tr>\n",
       "    <tr>\n",
       "      <td>...</td>\n",
       "      <td>...</td>\n",
       "      <td>...</td>\n",
       "      <td>...</td>\n",
       "      <td>...</td>\n",
       "      <td>...</td>\n",
       "      <td>...</td>\n",
       "      <td>...</td>\n",
       "      <td>...</td>\n",
       "      <td>...</td>\n",
       "    </tr>\n",
       "    <tr>\n",
       "      <td>23411</td>\n",
       "      <td>1.9900</td>\n",
       "      <td>2</td>\n",
       "      <td>Gadap Town</td>\n",
       "      <td>Malir</td>\n",
       "      <td>3</td>\n",
       "      <td>3</td>\n",
       "      <td>7.933872</td>\n",
       "      <td>25.092281</td>\n",
       "      <td>66.961481</td>\n",
       "    </tr>\n",
       "    <tr>\n",
       "      <td>23412</td>\n",
       "      <td>70.0000</td>\n",
       "      <td>1</td>\n",
       "      <td>Federal B Area</td>\n",
       "      <td>Central</td>\n",
       "      <td>3</td>\n",
       "      <td>3</td>\n",
       "      <td>4.958670</td>\n",
       "      <td>24.927473</td>\n",
       "      <td>67.064127</td>\n",
       "    </tr>\n",
       "    <tr>\n",
       "      <td>23413</td>\n",
       "      <td>3.8000</td>\n",
       "      <td>1</td>\n",
       "      <td>Cantt</td>\n",
       "      <td>Malir</td>\n",
       "      <td>4</td>\n",
       "      <td>4</td>\n",
       "      <td>10.942132</td>\n",
       "      <td>24.855068</td>\n",
       "      <td>67.049931</td>\n",
       "    </tr>\n",
       "    <tr>\n",
       "      <td>23414</td>\n",
       "      <td>3.0600</td>\n",
       "      <td>1</td>\n",
       "      <td>Cantt</td>\n",
       "      <td>Malir</td>\n",
       "      <td>3</td>\n",
       "      <td>3</td>\n",
       "      <td>9.454531</td>\n",
       "      <td>24.855068</td>\n",
       "      <td>67.049931</td>\n",
       "    </tr>\n",
       "    <tr>\n",
       "      <td>23415</td>\n",
       "      <td>2.7000</td>\n",
       "      <td>1</td>\n",
       "      <td>Cantt</td>\n",
       "      <td>Malir</td>\n",
       "      <td>3</td>\n",
       "      <td>3</td>\n",
       "      <td>9.454531</td>\n",
       "      <td>24.855068</td>\n",
       "      <td>67.049931</td>\n",
       "    </tr>\n",
       "  </tbody>\n",
       "</table>\n",
       "<p>23416 rows × 9 columns</p>\n",
       "</div>"
      ],
      "text/plain": [
       "       price in crore  type             location District  bathroom  bedroom  \\\n",
       "0              0.2500     1  Bahria Town Karachi    Malir         2        2   \n",
       "1              0.9720     1  Bahria Town Karachi    Malir         4        4   \n",
       "2              0.7420     1  Bahria Town Karachi    Malir         3        3   \n",
       "3              0.4464     1  Bahria Town Karachi    Malir         2        2   \n",
       "4              4.1000     2          DHA Defence    South         4        3   \n",
       "...               ...   ...                  ...      ...       ...      ...   \n",
       "23411          1.9900     2           Gadap Town    Malir         3        3   \n",
       "23412         70.0000     1       Federal B Area  Central         3        3   \n",
       "23413          3.8000     1                Cantt    Malir         4        4   \n",
       "23414          3.0600     1                Cantt    Malir         3        3   \n",
       "23415          2.7000     1                Cantt    Malir         3        3   \n",
       "\n",
       "            area   latitude  longitude  \n",
       "0       4.900000  25.021452  67.303431  \n",
       "1       5.400000  25.021452  67.303431  \n",
       "2       4.200000  25.021452  67.303431  \n",
       "3       2.500000  25.021452  67.303431  \n",
       "4       4.000000  24.798393  67.032767  \n",
       "...          ...        ...        ...  \n",
       "23411   7.933872  25.092281  66.961481  \n",
       "23412   4.958670  24.927473  67.064127  \n",
       "23413  10.942132  24.855068  67.049931  \n",
       "23414   9.454531  24.855068  67.049931  \n",
       "23415   9.454531  24.855068  67.049931  \n",
       "\n",
       "[23416 rows x 9 columns]"
      ]
     },
     "execution_count": 9,
     "metadata": {},
     "output_type": "execute_result"
    }
   ],
   "source": [
    "df"
   ]
  },
  {
   "cell_type": "code",
   "execution_count": 10,
   "metadata": {},
   "outputs": [
    {
     "data": {
      "text/html": [
       "<div>\n",
       "<style scoped>\n",
       "    .dataframe tbody tr th:only-of-type {\n",
       "        vertical-align: middle;\n",
       "    }\n",
       "\n",
       "    .dataframe tbody tr th {\n",
       "        vertical-align: top;\n",
       "    }\n",
       "\n",
       "    .dataframe thead th {\n",
       "        text-align: right;\n",
       "    }\n",
       "</style>\n",
       "<table border=\"1\" class=\"dataframe\">\n",
       "  <thead>\n",
       "    <tr style=\"text-align: right;\">\n",
       "      <th></th>\n",
       "      <th>price in crore</th>\n",
       "      <th>type</th>\n",
       "      <th>bathroom</th>\n",
       "      <th>bedroom</th>\n",
       "      <th>area</th>\n",
       "      <th>latitude</th>\n",
       "      <th>longitude</th>\n",
       "    </tr>\n",
       "  </thead>\n",
       "  <tbody>\n",
       "    <tr>\n",
       "      <td>0</td>\n",
       "      <td>0.2500</td>\n",
       "      <td>1</td>\n",
       "      <td>2</td>\n",
       "      <td>2</td>\n",
       "      <td>4.900000</td>\n",
       "      <td>25.021452</td>\n",
       "      <td>67.303431</td>\n",
       "    </tr>\n",
       "    <tr>\n",
       "      <td>1</td>\n",
       "      <td>0.9720</td>\n",
       "      <td>1</td>\n",
       "      <td>4</td>\n",
       "      <td>4</td>\n",
       "      <td>5.400000</td>\n",
       "      <td>25.021452</td>\n",
       "      <td>67.303431</td>\n",
       "    </tr>\n",
       "    <tr>\n",
       "      <td>2</td>\n",
       "      <td>0.7420</td>\n",
       "      <td>1</td>\n",
       "      <td>3</td>\n",
       "      <td>3</td>\n",
       "      <td>4.200000</td>\n",
       "      <td>25.021452</td>\n",
       "      <td>67.303431</td>\n",
       "    </tr>\n",
       "    <tr>\n",
       "      <td>3</td>\n",
       "      <td>0.4464</td>\n",
       "      <td>1</td>\n",
       "      <td>2</td>\n",
       "      <td>2</td>\n",
       "      <td>2.500000</td>\n",
       "      <td>25.021452</td>\n",
       "      <td>67.303431</td>\n",
       "    </tr>\n",
       "    <tr>\n",
       "      <td>4</td>\n",
       "      <td>4.1000</td>\n",
       "      <td>2</td>\n",
       "      <td>4</td>\n",
       "      <td>3</td>\n",
       "      <td>4.000000</td>\n",
       "      <td>24.798393</td>\n",
       "      <td>67.032767</td>\n",
       "    </tr>\n",
       "    <tr>\n",
       "      <td>...</td>\n",
       "      <td>...</td>\n",
       "      <td>...</td>\n",
       "      <td>...</td>\n",
       "      <td>...</td>\n",
       "      <td>...</td>\n",
       "      <td>...</td>\n",
       "      <td>...</td>\n",
       "    </tr>\n",
       "    <tr>\n",
       "      <td>23411</td>\n",
       "      <td>1.9900</td>\n",
       "      <td>2</td>\n",
       "      <td>3</td>\n",
       "      <td>3</td>\n",
       "      <td>7.933872</td>\n",
       "      <td>25.092281</td>\n",
       "      <td>66.961481</td>\n",
       "    </tr>\n",
       "    <tr>\n",
       "      <td>23412</td>\n",
       "      <td>70.0000</td>\n",
       "      <td>1</td>\n",
       "      <td>3</td>\n",
       "      <td>3</td>\n",
       "      <td>4.958670</td>\n",
       "      <td>24.927473</td>\n",
       "      <td>67.064127</td>\n",
       "    </tr>\n",
       "    <tr>\n",
       "      <td>23413</td>\n",
       "      <td>3.8000</td>\n",
       "      <td>1</td>\n",
       "      <td>4</td>\n",
       "      <td>4</td>\n",
       "      <td>10.942132</td>\n",
       "      <td>24.855068</td>\n",
       "      <td>67.049931</td>\n",
       "    </tr>\n",
       "    <tr>\n",
       "      <td>23414</td>\n",
       "      <td>3.0600</td>\n",
       "      <td>1</td>\n",
       "      <td>3</td>\n",
       "      <td>3</td>\n",
       "      <td>9.454531</td>\n",
       "      <td>24.855068</td>\n",
       "      <td>67.049931</td>\n",
       "    </tr>\n",
       "    <tr>\n",
       "      <td>23415</td>\n",
       "      <td>2.7000</td>\n",
       "      <td>1</td>\n",
       "      <td>3</td>\n",
       "      <td>3</td>\n",
       "      <td>9.454531</td>\n",
       "      <td>24.855068</td>\n",
       "      <td>67.049931</td>\n",
       "    </tr>\n",
       "  </tbody>\n",
       "</table>\n",
       "<p>23416 rows × 7 columns</p>\n",
       "</div>"
      ],
      "text/plain": [
       "       price in crore  type  bathroom  bedroom       area   latitude  \\\n",
       "0              0.2500     1         2        2   4.900000  25.021452   \n",
       "1              0.9720     1         4        4   5.400000  25.021452   \n",
       "2              0.7420     1         3        3   4.200000  25.021452   \n",
       "3              0.4464     1         2        2   2.500000  25.021452   \n",
       "4              4.1000     2         4        3   4.000000  24.798393   \n",
       "...               ...   ...       ...      ...        ...        ...   \n",
       "23411          1.9900     2         3        3   7.933872  25.092281   \n",
       "23412         70.0000     1         3        3   4.958670  24.927473   \n",
       "23413          3.8000     1         4        4  10.942132  24.855068   \n",
       "23414          3.0600     1         3        3   9.454531  24.855068   \n",
       "23415          2.7000     1         3        3   9.454531  24.855068   \n",
       "\n",
       "       longitude  \n",
       "0      67.303431  \n",
       "1      67.303431  \n",
       "2      67.303431  \n",
       "3      67.303431  \n",
       "4      67.032767  \n",
       "...          ...  \n",
       "23411  66.961481  \n",
       "23412  67.064127  \n",
       "23413  67.049931  \n",
       "23414  67.049931  \n",
       "23415  67.049931  \n",
       "\n",
       "[23416 rows x 7 columns]"
      ]
     },
     "execution_count": 10,
     "metadata": {},
     "output_type": "execute_result"
    }
   ],
   "source": [
    "final = df.drop(['location','District'],axis='columns')\n",
    "final"
   ]
  },
  {
   "cell_type": "code",
   "execution_count": 11,
   "metadata": {},
   "outputs": [
    {
     "data": {
      "image/png": "[encoded data removed]",
      "text/plain": [
       "<Figure size 432x432 with 2 Axes>"
      ]
     },
     "metadata": {
      "needs_background": "light"
     },
     "output_type": "display_data"
    }
   ],
   "source": [
    "#correlatin\n",
    "train_corr=final.corr().round(2)\n",
    "f,ax=plt.subplots(figsize=(6,6))\n",
    "sns.heatmap(train_corr,cmap='viridis',annot=True)\n",
    "plt.title(\"Correlation between features\",weight='bold',fontsize=11)\n",
    "plt.show()"
   ]
  },
  {
   "cell_type": "markdown",
   "metadata": {},
   "source": [
    "# Define X and Y"
   ]
  },
  {
   "cell_type": "code",
   "execution_count": 12,
   "metadata": {},
   "outputs": [
    {
     "name": "stdout",
     "output_type": "stream",
     "text": [
      "[[ 1.         2.         2.         4.9       25.0214515 67.3034311]\n",
      " [ 1.         4.         4.         5.4       25.0214515 67.3034311]\n",
      " [ 1.         3.         3.         4.2       25.0214515 67.3034311]\n",
      " ...\n",
      " [ 1.         4.         4.        10.9421318 24.8550676 67.0499315]\n",
      " [ 1.         3.         3.         9.4545308 24.8550676 67.0499315]\n",
      " [ 1.         3.         3.         9.4545308 24.8550676 67.0499315]]\n"
     ]
    }
   ],
   "source": [
    "X = final.iloc[:, 1:].values\n",
    "Y = final.iloc[:, 0].values\n",
    "print(X)"
   ]
  },
  {
   "cell_type": "code",
   "execution_count": 13,
   "metadata": {},
   "outputs": [
    {
     "name": "stdout",
     "output_type": "stream",
     "text": [
      "[0.25  0.972 0.742 ... 3.8   3.06  2.7  ]\n"
     ]
    }
   ],
   "source": [
    "print(Y)"
   ]
  },
  {
   "cell_type": "markdown",
   "metadata": {},
   "source": [
    "# Split the data in traing and test set"
   ]
  },
  {
   "cell_type": "code",
   "execution_count": 14,
   "metadata": {},
   "outputs": [],
   "source": [
    "from sklearn.model_selection import train_test_split\n",
    "\n",
    "X_train, X_test, Y_train, Y_test = train_test_split(X, Y, test_size=0.2, random_state=0)"
   ]
  },
  {
   "cell_type": "code",
   "execution_count": 15,
   "metadata": {},
   "outputs": [],
   "source": [
    "#standardization scaler - fit&transform on train, fit only on test\n",
    "#from sklearn.preprocessing import MinMaxScaler\n",
    "#Scaler = MinMaxScaler()\n",
    "#Scaler.fit(X_train)\n",
    "#X_train = Scaler.transform(X_train)\n",
    "#X_test = Scaler.transform(X_test)"
   ]
  },
  {
   "cell_type": "markdown",
   "metadata": {},
   "source": [
    "# Train the model on training set"
   ]
  },
  {
   "cell_type": "code",
   "execution_count": 16,
   "metadata": {},
   "outputs": [
    {
     "data": {
      "text/plain": [
       "LinearRegression()"
      ]
     },
     "execution_count": 16,
     "metadata": {},
     "output_type": "execute_result"
    }
   ],
   "source": [
    "from sklearn.linear_model import LinearRegression\n",
    "ml_regressor = LinearRegression()\n",
    "ml_regressor.fit(X_train, Y_train)"
   ]
  },
  {
   "cell_type": "code",
   "execution_count": 17,
   "metadata": {},
   "outputs": [
    {
     "data": {
      "text/plain": [
       "array([ 2.53932088,  9.23147518, -0.07638668, ...,  2.02826393,\n",
       "        9.57058518,  2.20504675])"
      ]
     },
     "execution_count": 17,
     "metadata": {},
     "output_type": "execute_result"
    }
   ],
   "source": [
    "Y_Pred = ml_regressor.predict(X_train)\n",
    "Y_Pred"
   ]
  },
  {
   "cell_type": "code",
   "execution_count": 18,
   "metadata": {},
   "outputs": [
    {
     "data": {
      "text/plain": [
       "0.5867603608224112"
      ]
     },
     "execution_count": 18,
     "metadata": {},
     "output_type": "execute_result"
    }
   ],
   "source": [
    "from sklearn.metrics import r2_score\n",
    "r2_score(Y_train,Y_Pred)"
   ]
  },
  {
   "cell_type": "code",
   "execution_count": 19,
   "metadata": {},
   "outputs": [
    {
     "data": {
      "text/html": [
       "<table class=\"simpletable\">\n",
       "<caption>OLS Regression Results</caption>\n",
       "<tr>\n",
       "  <th>Dep. Variable:</th>            <td>y</td>        <th>  R-squared (uncentered):</th>      <td>   0.716</td> \n",
       "</tr>\n",
       "<tr>\n",
       "  <th>Model:</th>                   <td>OLS</td>       <th>  Adj. R-squared (uncentered):</th> <td>   0.716</td> \n",
       "</tr>\n",
       "<tr>\n",
       "  <th>Method:</th>             <td>Least Squares</td>  <th>  F-statistic:       </th>          <td>   7869.</td> \n",
       "</tr>\n",
       "<tr>\n",
       "  <th>Date:</th>             <td>Fri, 01 Oct 2021</td> <th>  Prob (F-statistic):</th>           <td>  0.00</td>  \n",
       "</tr>\n",
       "<tr>\n",
       "  <th>Time:</th>                 <td>19:31:20</td>     <th>  Log-Likelihood:    </th>          <td> -47458.</td> \n",
       "</tr>\n",
       "<tr>\n",
       "  <th>No. Observations:</th>      <td> 18732</td>      <th>  AIC:               </th>          <td>9.493e+04</td>\n",
       "</tr>\n",
       "<tr>\n",
       "  <th>Df Residuals:</th>          <td> 18726</td>      <th>  BIC:               </th>          <td>9.497e+04</td>\n",
       "</tr>\n",
       "<tr>\n",
       "  <th>Df Model:</th>              <td>     6</td>      <th>                     </th>              <td> </td>    \n",
       "</tr>\n",
       "<tr>\n",
       "  <th>Covariance Type:</th>      <td>nonrobust</td>    <th>                     </th>              <td> </td>    \n",
       "</tr>\n",
       "</table>\n",
       "<table class=\"simpletable\">\n",
       "<tr>\n",
       "   <td></td>     <th>coef</th>     <th>std err</th>      <th>t</th>      <th>P>|t|</th>  <th>[0.025</th>    <th>0.975]</th>  \n",
       "</tr>\n",
       "<tr>\n",
       "  <th>x1</th> <td>    0.0868</td> <td>    0.024</td> <td>    3.620</td> <td> 0.000</td> <td>    0.040</td> <td>    0.134</td>\n",
       "</tr>\n",
       "<tr>\n",
       "  <th>x2</th> <td>    0.7094</td> <td>    0.031</td> <td>   22.544</td> <td> 0.000</td> <td>    0.648</td> <td>    0.771</td>\n",
       "</tr>\n",
       "<tr>\n",
       "  <th>x3</th> <td>    0.1967</td> <td>    0.034</td> <td>    5.858</td> <td> 0.000</td> <td>    0.131</td> <td>    0.263</td>\n",
       "</tr>\n",
       "<tr>\n",
       "  <th>x4</th> <td>    0.2202</td> <td>    0.003</td> <td>   82.742</td> <td> 0.000</td> <td>    0.215</td> <td>    0.225</td>\n",
       "</tr>\n",
       "<tr>\n",
       "  <th>x5</th> <td>   -9.8722</td> <td>    0.283</td> <td>  -34.925</td> <td> 0.000</td> <td>  -10.426</td> <td>   -9.318</td>\n",
       "</tr>\n",
       "<tr>\n",
       "  <th>x6</th> <td>    3.6330</td> <td>    0.105</td> <td>   34.581</td> <td> 0.000</td> <td>    3.427</td> <td>    3.839</td>\n",
       "</tr>\n",
       "</table>\n",
       "<table class=\"simpletable\">\n",
       "<tr>\n",
       "  <th>Omnibus:</th>       <td>21254.273</td> <th>  Durbin-Watson:     </th>   <td>   1.983</td>  \n",
       "</tr>\n",
       "<tr>\n",
       "  <th>Prob(Omnibus):</th>  <td> 0.000</td>   <th>  Jarque-Bera (JB):  </th> <td>26469813.494</td>\n",
       "</tr>\n",
       "<tr>\n",
       "  <th>Skew:</th>           <td> 4.969</td>   <th>  Prob(JB):          </th>   <td>    0.00</td>  \n",
       "</tr>\n",
       "<tr>\n",
       "  <th>Kurtosis:</th>       <td>186.889</td>  <th>  Cond. No.          </th>   <td>    981.</td>  \n",
       "</tr>\n",
       "</table><br/><br/>Warnings:<br/>[1] Standard Errors assume that the covariance matrix of the errors is correctly specified."
      ],
      "text/plain": [
       "<class 'statsmodels.iolib.summary.Summary'>\n",
       "\"\"\"\n",
       "                                 OLS Regression Results                                \n",
       "=======================================================================================\n",
       "Dep. Variable:                      y   R-squared (uncentered):                   0.716\n",
       "Model:                            OLS   Adj. R-squared (uncentered):              0.716\n",
       "Method:                 Least Squares   F-statistic:                              7869.\n",
       "Date:                Fri, 01 Oct 2021   Prob (F-statistic):                        0.00\n",
       "Time:                        19:31:20   Log-Likelihood:                         -47458.\n",
       "No. Observations:               18732   AIC:                                  9.493e+04\n",
       "Df Residuals:                   18726   BIC:                                  9.497e+04\n",
       "Df Model:                           6                                                  \n",
       "Covariance Type:            nonrobust                                                  \n",
       "==============================================================================\n",
       "                 coef    std err          t      P>|t|      [0.025      0.975]\n",
       "------------------------------------------------------------------------------\n",
       "x1             0.0868      0.024      3.620      0.000       0.040       0.134\n",
       "x2             0.7094      0.031     22.544      0.000       0.648       0.771\n",
       "x3             0.1967      0.034      5.858      0.000       0.131       0.263\n",
       "x4             0.2202      0.003     82.742      0.000       0.215       0.225\n",
       "x5            -9.8722      0.283    -34.925      0.000     -10.426      -9.318\n",
       "x6             3.6330      0.105     34.581      0.000       3.427       3.839\n",
       "==============================================================================\n",
       "Omnibus:                    21254.273   Durbin-Watson:                   1.983\n",
       "Prob(Omnibus):                  0.000   Jarque-Bera (JB):         26469813.494\n",
       "Skew:                           4.969   Prob(JB):                         0.00\n",
       "Kurtosis:                     186.889   Cond. No.                         981.\n",
       "==============================================================================\n",
       "\n",
       "Warnings:\n",
       "[1] Standard Errors assume that the covariance matrix of the errors is correctly specified.\n",
       "\"\"\""
      ]
     },
     "execution_count": 19,
     "metadata": {},
     "output_type": "execute_result"
    }
   ],
   "source": [
    "import statsmodels.api as sm\n",
    "ml_regression = sm.OLS(Y_train,X_train)\n",
    "ml_regression = ml_regression.fit()\n",
    "ml_regression.summary()"
   ]
  },
  {
   "cell_type": "markdown",
   "metadata": {},
   "source": [
    "# Predict the test result test"
   ]
  },
  {
   "cell_type": "code",
   "execution_count": 20,
   "metadata": {},
   "outputs": [
    {
     "data": {
      "text/plain": [
       "array([ 5.00202499,  4.51260535, -0.96420598, ...,  5.77719391,\n",
       "        3.09215405,  0.86871193])"
      ]
     },
     "execution_count": 20,
     "metadata": {},
     "output_type": "execute_result"
    }
   ],
   "source": [
    "Y_pred = ml_regressor.predict(X_test)\n",
    "Y_pred"
   ]
  },
  {
   "cell_type": "markdown",
   "metadata": {},
   "source": [
    "# Evaluate the model"
   ]
  },
  {
   "cell_type": "code",
   "execution_count": 21,
   "metadata": {},
   "outputs": [
    {
     "name": "stdout",
     "output_type": "stream",
     "text": [
      "301.0409914922583\n",
      "[ 0.06729985  0.66581263  0.20652753  0.22189334 -9.00340017 -1.17364789]\n"
     ]
    }
   ],
   "source": [
    "#evaluate the model (intercept and slope)\n",
    "print(ml_regressor.intercept_)\n",
    "print(ml_regressor.coef_)"
   ]
  },
  {
   "cell_type": "code",
   "execution_count": 22,
   "metadata": {},
   "outputs": [
    {
     "data": {
      "text/html": [
       "<div>\n",
       "<style scoped>\n",
       "    .dataframe tbody tr th:only-of-type {\n",
       "        vertical-align: middle;\n",
       "    }\n",
       "\n",
       "    .dataframe tbody tr th {\n",
       "        vertical-align: top;\n",
       "    }\n",
       "\n",
       "    .dataframe thead th {\n",
       "        text-align: right;\n",
       "    }\n",
       "</style>\n",
       "<table border=\"1\" class=\"dataframe\">\n",
       "  <thead>\n",
       "    <tr style=\"text-align: right;\">\n",
       "      <th></th>\n",
       "      <th>Coefficient</th>\n",
       "    </tr>\n",
       "  </thead>\n",
       "  <tbody>\n",
       "    <tr>\n",
       "      <td>type</td>\n",
       "      <td>0.067300</td>\n",
       "    </tr>\n",
       "    <tr>\n",
       "      <td>bathroom</td>\n",
       "      <td>0.665813</td>\n",
       "    </tr>\n",
       "    <tr>\n",
       "      <td>bedroom</td>\n",
       "      <td>0.206528</td>\n",
       "    </tr>\n",
       "    <tr>\n",
       "      <td>area</td>\n",
       "      <td>0.221893</td>\n",
       "    </tr>\n",
       "    <tr>\n",
       "      <td>latitude</td>\n",
       "      <td>-9.003400</td>\n",
       "    </tr>\n",
       "    <tr>\n",
       "      <td>longitude</td>\n",
       "      <td>-1.173648</td>\n",
       "    </tr>\n",
       "  </tbody>\n",
       "</table>\n",
       "</div>"
      ],
      "text/plain": [
       "           Coefficient\n",
       "type          0.067300\n",
       "bathroom      0.665813\n",
       "bedroom       0.206528\n",
       "area          0.221893\n",
       "latitude     -9.003400\n",
       "longitude    -1.173648"
      ]
     },
     "execution_count": 22,
     "metadata": {},
     "output_type": "execute_result"
    }
   ],
   "source": [
    "#put results as a DataFrame\n",
    "coeff_df = pd.DataFrame(ml_regressor.coef_, final.drop('price in crore',axis =1).columns, columns=['Coefficient']) \n",
    "coeff_df"
   ]
  },
  {
   "cell_type": "code",
   "execution_count": 23,
   "metadata": {},
   "outputs": [
    {
     "data": {
      "text/plain": [
       "array([ 5.00202499,  4.51260535, -0.96420598, ...,  5.77719391,\n",
       "        3.09215405,  0.86871193])"
      ]
     },
     "execution_count": 23,
     "metadata": {},
     "output_type": "execute_result"
    }
   ],
   "source": [
    "ml_regressor.predict(X_test)"
   ]
  },
  {
   "cell_type": "code",
   "execution_count": 24,
   "metadata": {},
   "outputs": [],
   "source": [
    "from sklearn.metrics import r2_score\n"
   ]
  },
  {
   "cell_type": "code",
   "execution_count": 25,
   "metadata": {},
   "outputs": [
    {
     "data": {
      "text/plain": [
       "0.6479026952614417"
      ]
     },
     "execution_count": 25,
     "metadata": {},
     "output_type": "execute_result"
    }
   ],
   "source": [
    "r2_score(Y_test,Y_pred)"
   ]
  },
  {
   "cell_type": "code",
   "execution_count": 26,
   "metadata": {},
   "outputs": [
    {
     "name": "stdout",
     "output_type": "stream",
     "text": [
      "0.5867603608224112\n"
     ]
    }
   ],
   "source": [
    "print(ml_regressor.score(X_train, Y_train))"
   ]
  },
  {
   "cell_type": "markdown",
   "metadata": {},
   "source": [
    "# Plot the results"
   ]
  },
  {
   "cell_type": "code",
   "execution_count": 27,
   "metadata": {},
   "outputs": [
    {
     "data": {
      "image/png": "[encoded data removed]",
      "text/plain": [
       "<Figure size 1080x720 with 1 Axes>"
      ]
     },
     "metadata": {
      "needs_background": "light"
     },
     "output_type": "display_data"
    }
   ],
   "source": [
    "import matplotlib.pyplot as plt\n",
    "plt.figure(figsize=(15,10))\n",
    "plt.scatter(Y_test,Y_pred, color = 'red')\n",
    "plt.title('Actual vs Predicted')\n",
    "plt.xlabel('Actual')\n",
    "plt.ylabel('Predicted')\n",
    "plt.show()"
   ]
  },
  {
   "cell_type": "markdown",
   "metadata": {},
   "source": [
    "# Predicted values"
   ]
  },
  {
   "cell_type": "code",
   "execution_count": 28,
   "metadata": {},
   "outputs": [
    {
     "data": {
      "text/html": [
       "<div>\n",
       "<style scoped>\n",
       "    .dataframe tbody tr th:only-of-type {\n",
       "        vertical-align: middle;\n",
       "    }\n",
       "\n",
       "    .dataframe tbody tr th {\n",
       "        vertical-align: top;\n",
       "    }\n",
       "\n",
       "    .dataframe thead th {\n",
       "        text-align: right;\n",
       "    }\n",
       "</style>\n",
       "<table border=\"1\" class=\"dataframe\">\n",
       "  <thead>\n",
       "    <tr style=\"text-align: right;\">\n",
       "      <th></th>\n",
       "      <th>Atual value</th>\n",
       "      <th>Predicted value</th>\n",
       "      <th>Difference</th>\n",
       "    </tr>\n",
       "  </thead>\n",
       "  <tbody>\n",
       "    <tr>\n",
       "      <td>0</td>\n",
       "      <td>3.60</td>\n",
       "      <td>5.002025</td>\n",
       "      <td>-1.402025</td>\n",
       "    </tr>\n",
       "    <tr>\n",
       "      <td>1</td>\n",
       "      <td>6.50</td>\n",
       "      <td>4.512605</td>\n",
       "      <td>1.987395</td>\n",
       "    </tr>\n",
       "    <tr>\n",
       "      <td>2</td>\n",
       "      <td>0.26</td>\n",
       "      <td>-0.964206</td>\n",
       "      <td>1.224206</td>\n",
       "    </tr>\n",
       "    <tr>\n",
       "      <td>3</td>\n",
       "      <td>1.25</td>\n",
       "      <td>2.892450</td>\n",
       "      <td>-1.642450</td>\n",
       "    </tr>\n",
       "    <tr>\n",
       "      <td>4</td>\n",
       "      <td>6.30</td>\n",
       "      <td>6.858537</td>\n",
       "      <td>-0.558537</td>\n",
       "    </tr>\n",
       "    <tr>\n",
       "      <td>...</td>\n",
       "      <td>...</td>\n",
       "      <td>...</td>\n",
       "      <td>...</td>\n",
       "    </tr>\n",
       "    <tr>\n",
       "      <td>4679</td>\n",
       "      <td>0.70</td>\n",
       "      <td>0.237066</td>\n",
       "      <td>0.462934</td>\n",
       "    </tr>\n",
       "    <tr>\n",
       "      <td>4680</td>\n",
       "      <td>0.68</td>\n",
       "      <td>-0.328422</td>\n",
       "      <td>1.008422</td>\n",
       "    </tr>\n",
       "    <tr>\n",
       "      <td>4681</td>\n",
       "      <td>10.65</td>\n",
       "      <td>5.777194</td>\n",
       "      <td>4.872806</td>\n",
       "    </tr>\n",
       "    <tr>\n",
       "      <td>4682</td>\n",
       "      <td>0.98</td>\n",
       "      <td>3.092154</td>\n",
       "      <td>-2.112154</td>\n",
       "    </tr>\n",
       "    <tr>\n",
       "      <td>4683</td>\n",
       "      <td>0.30</td>\n",
       "      <td>0.868712</td>\n",
       "      <td>-0.568712</td>\n",
       "    </tr>\n",
       "  </tbody>\n",
       "</table>\n",
       "<p>4684 rows × 3 columns</p>\n",
       "</div>"
      ],
      "text/plain": [
       "      Atual value  Predicted value  Difference\n",
       "0            3.60         5.002025   -1.402025\n",
       "1            6.50         4.512605    1.987395\n",
       "2            0.26        -0.964206    1.224206\n",
       "3            1.25         2.892450   -1.642450\n",
       "4            6.30         6.858537   -0.558537\n",
       "...           ...              ...         ...\n",
       "4679         0.70         0.237066    0.462934\n",
       "4680         0.68        -0.328422    1.008422\n",
       "4681        10.65         5.777194    4.872806\n",
       "4682         0.98         3.092154   -2.112154\n",
       "4683         0.30         0.868712   -0.568712\n",
       "\n",
       "[4684 rows x 3 columns]"
      ]
     },
     "execution_count": 28,
     "metadata": {},
     "output_type": "execute_result"
    }
   ],
   "source": [
    "pred_y_final = pd.DataFrame({'Atual value':Y_test,'Predicted value':Y_pred,'Difference':Y_test-Y_pred})\n",
    "pred_y_final"
   ]
  },
  {
   "cell_type": "code",
   "execution_count": 29,
   "metadata": {},
   "outputs": [
    {
     "data": {
      "text/plain": [
       "<matplotlib.axes._subplots.AxesSubplot at 0x192148de3c8>"
      ]
     },
     "execution_count": 29,
     "metadata": {},
     "output_type": "execute_result"
    },
    {
     "data": {
      "image/png": "[encoded data removed]",
      "text/plain": [
       "<Figure size 720x360 with 1 Axes>"
      ]
     },
     "metadata": {
      "needs_background": "light"
     },
     "output_type": "display_data"
    }
   ],
   "source": [
    "# visualizing residuals\n",
    "fig = plt.figure(figsize=(10,5))\n",
    "residuals = (Y_test- Y_pred)\n",
    "sns.distplot(residuals)"
   ]
  },
  {
   "cell_type": "code",
   "execution_count": 30,
   "metadata": {},
   "outputs": [
    {
     "name": "stdout",
     "output_type": "stream",
     "text": [
      "MSA: 1.3287988132036639\n",
      "MSE: 7.209564422459494\n",
      "RMSE: 2.6850632064179596\n"
     ]
    }
   ],
   "source": [
    "# evaluate the performance of the algorithm (MAE - MSE - RMSE)\n",
    "from sklearn import metrics\n",
    "print('MSA:', metrics.mean_absolute_error(Y_test, Y_pred))  \n",
    "print('MSE:', metrics.mean_squared_error(Y_test, Y_pred))  \n",
    "print('RMSE:', np.sqrt(metrics.mean_squared_error(Y_test, Y_pred)))\n"
   ]
  },
  {
   "cell_type": "code",
   "execution_count": 31,
   "metadata": {},
   "outputs": [
    {
     "name": "stdout",
     "output_type": "stream",
     "text": [
      "Mean sq. errror between y_test and predicted = 0.001152856212923123\n"
     ]
    }
   ],
   "source": [
    "print(\"Mean sq. errror between y_test and predicted =\", np.mean(Y_pred-Y_test)**2)"
   ]
  }
 ],
 "metadata": {
  "kernelspec": {
   "display_name": "Python 3",
   "language": "python",
   "name": "python3"
  },
  "language_info": {
   "codemirror_mode": {
    "name": "ipython",
    "version": 3
   },
   "file_extension": ".py",
   "mimetype": "text/x-python",
   "name": "python",
   "nbconvert_exporter": "python",
   "pygments_lexer": "ipython3",
   "version": "3.7.4"
  }
 },
 "nbformat": 4,
 "nbformat_minor": 2
}
